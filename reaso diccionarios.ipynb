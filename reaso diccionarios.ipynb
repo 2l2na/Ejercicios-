{
 "cells": [
  {
   "cell_type": "markdown",
   "metadata": {},
   "source": [
    "1. Crear un diccionario: Crea un diccionario vacío llamado mi_diccionario con una key llamada apellido y que su value sea López."
   ]
  },
  {
   "cell_type": "code",
   "execution_count": 25,
   "metadata": {},
   "outputs": [
    {
     "name": "stdout",
     "output_type": "stream",
     "text": [
      "{'apellido': 'López'}\n"
     ]
    }
   ],
   "source": [
    "mi_diccionario = {'apellido':'López'}\n",
    "print(mi_diccionario)\n"
   ]
  },
  {
   "cell_type": "markdown",
   "metadata": {},
   "source": [
    "2. Agregar elementos: Agrega una clave-valor al diccionario mi_diccionario. Por ejemplo, agrega la clave \"nombre\" con el valor \"Juan\"."
   ]
  },
  {
   "cell_type": "code",
   "execution_count": 36,
   "metadata": {},
   "outputs": [
    {
     "name": "stdout",
     "output_type": "stream",
     "text": [
      "{'apellido': 'López', 'nombre': 'Juan'}\n",
      "{'apellido': 'López', 'nombre': 'Juan'}\n",
      "{'apellido': 'López', 'nombre': 'Juan'}\n",
      "{'Laura': {'notas': [5, 6, 7], 'ausencias': 0}}\n"
     ]
    }
   ],
   "source": [
    "mi_diccionario['nombre'] ='Juan' # por asignación directa\n",
    "print(mi_diccionario)\n",
    "\n",
    "nuevo_par={'nombre':'Juan'} #con update(dic)\n",
    "mi_diccionario.update(nuevo_par)\n",
    "print (mi_diccionario)\n",
    "\n",
    "mi_diccionario.update({'nombre':'Juan'})#con update(key : val)\n",
    "print(mi_diccionario)\n",
    "\n",
    "alumnas = {}            #el ejemplo que nos dio en clase\n",
    "alumnas.update({'Laura':{'notas':[5,6,7],'ausencias':0}})\n",
    "print(alumnas)\n"
   ]
  },
  {
   "cell_type": "markdown",
   "metadata": {},
   "source": [
    "3. Acceder a un valor: Accede al valor correspondiente a la clave \"nombre\" en mi_diccionario."
   ]
  },
  {
   "cell_type": "code",
   "execution_count": 46,
   "metadata": {},
   "outputs": [
    {
     "name": "stdout",
     "output_type": "stream",
     "text": [
      "El valor de nombre es: Juan\n"
     ]
    }
   ],
   "source": [
    "print('El valor de nombre es:',mi_diccionario.get('nombre'))"
   ]
  },
  {
   "cell_type": "markdown",
   "metadata": {},
   "source": [
    "4. Modificar un valor: Cambia el valor de la clave \"nombre\" a \"Ana\"."
   ]
  },
  {
   "cell_type": "code",
   "execution_count": 47,
   "metadata": {},
   "outputs": [
    {
     "name": "stdout",
     "output_type": "stream",
     "text": [
      "{'apellido': 'López', 'nombre': 'Ana'}\n"
     ]
    }
   ],
   "source": [
    "mi_diccionario[\"nombre\"]='Ana'\n",
    "print(mi_diccionario)"
   ]
  },
  {
   "cell_type": "markdown",
   "metadata": {},
   "source": [
    "5. Eliminar un elemento: Elimina la clave \"nombre\" de mi_diccionario."
   ]
  },
  {
   "cell_type": "code",
   "execution_count": 48,
   "metadata": {},
   "outputs": [
    {
     "name": "stdout",
     "output_type": "stream",
     "text": [
      "{'apellido': 'López'}\n"
     ]
    }
   ],
   "source": [
    "mi_diccionario.pop('nombre')\n",
    "print(mi_diccionario)"
   ]
  },
  {
   "cell_type": "markdown",
   "metadata": {},
   "source": [
    "6. Verificar existencia: Verifica si la clave \"apellido\" existe en mi_diccionario.\n"
   ]
  },
  {
   "cell_type": "code",
   "execution_count": 53,
   "metadata": {},
   "outputs": [
    {
     "name": "stdout",
     "output_type": "stream",
     "text": [
      "Está apellido en mi diccionario? True\n"
     ]
    }
   ],
   "source": [
    "print('Está apellido en mi diccionario?', 'apellido' in mi_diccionario)"
   ]
  },
  {
   "cell_type": "markdown",
   "metadata": {},
   "source": [
    "8. Obtener todas las claves: Obtén una lista de todas las claves en mi_diccionario."
   ]
  },
  {
   "cell_type": "code",
   "execution_count": 59,
   "metadata": {},
   "outputs": [
    {
     "name": "stdout",
     "output_type": "stream",
     "text": [
      "Las keys de mi diccionario son: dict_keys(['apellido'])\n"
     ]
    }
   ],
   "source": [
    "print(f'Las keys de mi diccionario son: {mi_diccionario.keys()}')"
   ]
  },
  {
   "cell_type": "markdown",
   "metadata": {},
   "source": [
    "9. Obtener todos los valores: Obtén una lista de todos los valores en mi_diccionario."
   ]
  },
  {
   "cell_type": "code",
   "execution_count": 60,
   "metadata": {},
   "outputs": [
    {
     "name": "stdout",
     "output_type": "stream",
     "text": [
      "Los valores de mi diccionario son: dict_values(['López'])\n"
     ]
    }
   ],
   "source": [
    "print(f'Los valores de mi diccionario son: {mi_diccionario.values()}')"
   ]
  },
  {
   "cell_type": "markdown",
   "metadata": {},
   "source": [
    "10. Recorrer el diccionario: Usa un bucle for para recorrer y mostrar todas las claves y valores en mi_diccionario."
   ]
  },
  {
   "cell_type": "code",
   "execution_count": 76,
   "metadata": {},
   "outputs": [
    {
     "name": "stdout",
     "output_type": "stream",
     "text": [
      "{'apellido': 'López'}\n",
      "El valor de apellido es dict_values(['López'])\n"
     ]
    }
   ],
   "source": [
    "print(mi_diccionario)\n",
    "for clave in mi_diccionario: \n",
    "    print(f'El valor de {clave} es {mi_diccionario.values()}')\n"
   ]
  },
  {
   "cell_type": "markdown",
   "metadata": {},
   "source": [
    "11. Longitud del diccionario: Calcula la longitud (cantidad de elementos) de mi_diccionario.\n"
   ]
  },
  {
   "cell_type": "code",
   "execution_count": 61,
   "metadata": {},
   "outputs": [
    {
     "name": "stdout",
     "output_type": "stream",
     "text": [
      "El número de elemntos de mi diccionario es: 1\n"
     ]
    }
   ],
   "source": [
    "print(f'El número de elemntos de mi diccionario es: {len(mi_diccionario)}')"
   ]
  },
  {
   "cell_type": "markdown",
   "metadata": {},
   "source": [
    "12. Copiar un diccionario: Crea una copia de mi_diccionario llamada copia_diccionario."
   ]
  },
  {
   "cell_type": "code",
   "execution_count": 62,
   "metadata": {},
   "outputs": [
    {
     "name": "stdout",
     "output_type": "stream",
     "text": [
      "{'apellido': 'López'}\n",
      "{'apellido': 'López'}\n"
     ]
    }
   ],
   "source": [
    "copia_diccionario = mi_diccionario.copy()\n",
    "print(mi_diccionario)\n",
    "print(copia_diccionario)"
   ]
  },
  {
   "cell_type": "markdown",
   "metadata": {},
   "source": [
    "13. Eliminar elementos: Elimina todos los elementos de copia_diccionario."
   ]
  },
  {
   "cell_type": "code",
   "execution_count": 63,
   "metadata": {},
   "outputs": [
    {
     "name": "stdout",
     "output_type": "stream",
     "text": [
      "{}\n"
     ]
    }
   ],
   "source": [
    "copia_diccionario.clear()\n",
    "print(copia_diccionario)"
   ]
  },
  {
   "cell_type": "markdown",
   "metadata": {},
   "source": [
    "14. Combinar diccionarios: Crea otro diccionario llamado diccionario_combinado y combina mi_diccionario y copia_diccionario en él."
   ]
  },
  {
   "cell_type": "code",
   "execution_count": 65,
   "metadata": {},
   "outputs": [
    {
     "name": "stdout",
     "output_type": "stream",
     "text": [
      "{'a': 1, 'b': 2, 'c': 3, 'apellido': 'López'}\n"
     ]
    }
   ],
   "source": [
    "nuevo_diccionario = {'a':1, 'b':2, 'c':3}\n",
    "nuevo_diccionario.update(mi_diccionario)\n",
    "print(nuevo_diccionario)"
   ]
  },
  {
   "cell_type": "markdown",
   "metadata": {},
   "source": [
    "15. Obtener valor predeterminado: Intenta acceder a la clave \"edad\" en mi_diccionario. Si no existe, muestra el valor predeterminado \"Desconocida\"."
   ]
  },
  {
   "cell_type": "code",
   "execution_count": 66,
   "metadata": {},
   "outputs": [
    {
     "data": {
      "text/plain": [
       "'Desconocida'"
      ]
     },
     "execution_count": 66,
     "metadata": {},
     "output_type": "execute_result"
    }
   ],
   "source": [
    "mi_diccionario.get('edad','Desconocida')"
   ]
  },
  {
   "cell_type": "markdown",
   "metadata": {},
   "source": [
    "16. Clave máxima: Encuentra la clave con el valor máximo en un diccionario que contenga pares clave-valor numéricos."
   ]
  },
  {
   "cell_type": "code",
   "execution_count": 73,
   "metadata": {},
   "outputs": [
    {
     "name": "stdout",
     "output_type": "stream",
     "text": [
      "{1: 125, 2: 487, 3: 154}\n",
      "El valor máximo es: 487\n"
     ]
    }
   ],
   "source": [
    "dic_numerico = {1:125, 2:487, 3:154}\n",
    "print(dic_numerico)\n",
    "print(f'El valor máximo es: {max(dic_numerico.values())}')#.values para acceder a los valores. Si no, devuelve el max de las keys\n",
    "#print(f'El máximo valor es:)"
   ]
  }
 ],
 "metadata": {
  "kernelspec": {
   "display_name": "Python 3",
   "language": "python",
   "name": "python3"
  },
  "language_info": {
   "codemirror_mode": {
    "name": "ipython",
    "version": 3
   },
   "file_extension": ".py",
   "mimetype": "text/x-python",
   "name": "python",
   "nbconvert_exporter": "python",
   "pygments_lexer": "ipython3",
   "version": "3.8.10"
  }
 },
 "nbformat": 4,
 "nbformat_minor": 2
}
