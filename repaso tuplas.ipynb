{
 "cells": [
  {
   "cell_type": "markdown",
   "metadata": {},
   "source": [
    "1. Crear una tupla: Crea una tupla llamada mi_tupla con algunos elementos de tu elección."
   ]
  },
  {
   "cell_type": "code",
   "execution_count": 3,
   "metadata": {},
   "outputs": [],
   "source": [
    "mi_tupla = ('rojo', 'anaranjado', 'amarillo', 'verde', 'azul', 'añil', 'violeta')\n"
   ]
  },
  {
   "cell_type": "markdown",
   "metadata": {},
   "source": [
    "2. Acceder al primer elemento: Accede al primer elemento de mi_tupla y guárdalo en una variable llamada primer_elemento."
   ]
  },
  {
   "cell_type": "code",
   "execution_count": 6,
   "metadata": {},
   "outputs": [
    {
     "name": "stdout",
     "output_type": "stream",
     "text": [
      "rojo\n"
     ]
    }
   ],
   "source": [
    "primer_elemento = mi_tupla[0]\n",
    "print(primer_elemento)"
   ]
  },
  {
   "cell_type": "markdown",
   "metadata": {},
   "source": [
    "3. Acceder al último elemento: Accede al último elemento de mi_tupla y guárdalo en una variable llamada ultimo_elemento."
   ]
  },
  {
   "cell_type": "code",
   "execution_count": 8,
   "metadata": {},
   "outputs": [
    {
     "name": "stdout",
     "output_type": "stream",
     "text": [
      "violeta\n"
     ]
    }
   ],
   "source": [
    "ultimo_elemento = mi_tupla[-1]\n",
    "print(ultimo_elemento)"
   ]
  },
  {
   "cell_type": "markdown",
   "metadata": {},
   "source": [
    "4. Acceder a un rango de elementos: Utilizando el slicing, crea una nueva tupla llamada sub_tupla que contenga los elementos desde el segundo hasta el cuarto de mi_tupla."
   ]
  },
  {
   "cell_type": "code",
   "execution_count": 10,
   "metadata": {},
   "outputs": [
    {
     "name": "stdout",
     "output_type": "stream",
     "text": [
      "('anaranjado', 'amarillo', 'verde', 'azul')\n"
     ]
    }
   ],
   "source": [
    "sub_tupla = mi_tupla[1:5:1]\n",
    "print(sub_tupla)"
   ]
  },
  {
   "cell_type": "markdown",
   "metadata": {},
   "source": [
    "5. Concatenar dos tuplas: Crea otra tupla llamada otra_tupla y concaténala con mi_tupla para formar una nueva tupla llamada tupla_concatenada."
   ]
  },
  {
   "cell_type": "code",
   "execution_count": 24,
   "metadata": {},
   "outputs": [
    {
     "name": "stdout",
     "output_type": "stream",
     "text": [
      "['rojo', 'anaranjado', 'amarillo', 'verde', 'azul', 'añil', 'violeta']\n",
      "['a', 'b', 'c', 'd', 'e', 'f', 'g']\n",
      "['a', 'b', 'c', 'd', 'e', 'f', 'g', 'rojo', 'anaranjado', 'amarillo', 'verde', 'azul', 'añil', 'violeta']\n",
      "('a', 'b', 'c', 'd', 'e', 'f', 'g', 'rojo', 'anaranjado', 'amarillo', 'verde', 'azul', 'añil', 'violeta')\n"
     ]
    }
   ],
   "source": [
    "otra_tupla = ('a','b','c','d','e','f','g')\n",
    "mi_tupla_lista = list(mi_tupla)\n",
    "print(mi_tupla_lista)\n",
    "otra_tupla_lista = list(otra_tupla)\n",
    "print(otra_tupla_lista)\n",
    "otra_tupla_lista.extend(mi_tupla_lista)\n",
    "print(otra_tupla_lista)\n",
    "tupla_concatenada = tuple(otra_tupla_lista)\n",
    "print (tupla_concatenada)\n"
   ]
  },
  {
   "cell_type": "markdown",
   "metadata": {},
   "source": [
    "6. Encontrar la longitud: Encuentra la longitud de tupla_concatenada y guárdala en una variable llamada longitud."
   ]
  },
  {
   "cell_type": "code",
   "execution_count": 25,
   "metadata": {},
   "outputs": [
    {
     "name": "stdout",
     "output_type": "stream",
     "text": [
      "14\n"
     ]
    }
   ],
   "source": [
    "longitud = len(tupla_concatenada)\n",
    "print(longitud)"
   ]
  },
  {
   "cell_type": "markdown",
   "metadata": {},
   "source": [
    "7. Buscar un elemento: Verifica si un elemento específico está presente en mi_tupla, por ejemplo, \"manzana\"."
   ]
  },
  {
   "cell_type": "code",
   "execution_count": 26,
   "metadata": {},
   "outputs": [
    {
     "data": {
      "text/plain": [
       "False"
      ]
     },
     "execution_count": 26,
     "metadata": {},
     "output_type": "execute_result"
    }
   ],
   "source": [
    "\"manzana\" in mi_tupla"
   ]
  },
  {
   "cell_type": "markdown",
   "metadata": {},
   "source": [
    "10. Contar elementos: Cuenta cuántas veces aparece un elemento específico en mi_tupla, por ejemplo, cuántas veces aparece \"pera\"."
   ]
  },
  {
   "cell_type": "code",
   "execution_count": 28,
   "metadata": {},
   "outputs": [
    {
     "data": {
      "text/plain": [
       "1"
      ]
     },
     "execution_count": 28,
     "metadata": {},
     "output_type": "execute_result"
    }
   ],
   "source": [
    "mi_tupla.count('rojo')"
   ]
  },
  {
   "cell_type": "markdown",
   "metadata": {},
   "source": [
    "10. Desempaquetar una tupla: Si tienes una tupla de nombres (nombre, apellido), desempaqueta los valores en dos variables separadas."
   ]
  },
  {
   "cell_type": "code",
   "execution_count": 29,
   "metadata": {},
   "outputs": [
    {
     "data": {
      "text/plain": [
       "['Elena', 'Durán']"
      ]
     },
     "execution_count": 29,
     "metadata": {},
     "output_type": "execute_result"
    }
   ],
   "source": [
    "nombre_apellido = ('Elena', 'Durán')\n",
    "list(nombre_apellido)"
   ]
  },
  {
   "cell_type": "markdown",
   "metadata": {},
   "source": [
    "11. Convertir una lista en tupla: Crea una lista de números y conviértela en una tupla llamada tupla_desde_lista."
   ]
  },
  {
   "cell_type": "code",
   "execution_count": 32,
   "metadata": {},
   "outputs": [
    {
     "name": "stdout",
     "output_type": "stream",
     "text": [
      "[1, 2, 3, 4, 5, 6, 7, 8, 9, 10]\n",
      "(1, 2, 3, 4, 5, 6, 7, 8, 9, 10)\n"
     ]
    }
   ],
   "source": [
    "lista_numeros = [1,2,3,4,5,6,7,8,9,10]\n",
    "print(lista_numeros)\n",
    "tupla_desde_lista = tuple(lista_numeros)\n",
    "print (tupla_desde_lista)"
   ]
  }
 ],
 "metadata": {
  "kernelspec": {
   "display_name": "Python 3",
   "language": "python",
   "name": "python3"
  },
  "language_info": {
   "codemirror_mode": {
    "name": "ipython",
    "version": 3
   },
   "file_extension": ".py",
   "mimetype": "text/x-python",
   "name": "python",
   "nbconvert_exporter": "python",
   "pygments_lexer": "ipython3",
   "version": "3.8.10"
  }
 },
 "nbformat": 4,
 "nbformat_minor": 2
}
